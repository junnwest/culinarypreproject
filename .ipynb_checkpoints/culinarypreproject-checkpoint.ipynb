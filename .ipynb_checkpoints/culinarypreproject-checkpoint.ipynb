{
 "cells": [
  {
   "cell_type": "code",
   "execution_count": 121,
   "id": "30ca0f34-58e9-440c-a36a-5d0dfaa578f3",
   "metadata": {},
   "outputs": [
    {
     "name": "stdout",
     "output_type": "stream",
     "text": [
      "      id      cuisine                                        ingredients\n",
      "0  10259        greek  [romaine lettuce, black olives, grape tomatoes...\n",
      "1  25693  southern_us  [plain flour, ground pepper, salt, tomatoes, g...\n",
      "2  20130     filipino  [eggs, pepper, salt, mayonaise, cooking oil, g...\n",
      "3  22213       indian                [water, vegetable oil, wheat, salt]\n",
      "4  13162       indian  [black pepper, shallots, cornflour, cayenne pe...\n"
     ]
    }
   ],
   "source": [
    "import pandas as pd\n",
    "data = pd.read_json(\"train.json\")\n",
    "print(data.head())"
   ]
  },
  {
   "cell_type": "markdown",
   "id": "ee20e570-4560-4dcd-b1f5-74196482306d",
   "metadata": {},
   "source": [
    "## 1. Data Understanding"
   ]
  },
  {
   "cell_type": "markdown",
   "id": "3ea26168-3569-4449-b61c-f409c6be8697",
   "metadata": {},
   "source": [
    "### Total number of rows, cuisines, ingredients"
   ]
  },
  {
   "cell_type": "code",
   "execution_count": 122,
   "id": "ad067855-b747-4b3a-bfe9-d120a9504808",
   "metadata": {},
   "outputs": [
    {
     "name": "stdout",
     "output_type": "stream",
     "text": [
      "Total number of rows: 39774\n",
      "Total number of cuisines: 20\n",
      "Total number of ingredients: 6714\n"
     ]
    }
   ],
   "source": [
    "# Convert the JSON data into a pandas DataFrame\n",
    "df = pd.DataFrame(data)\n",
    "\n",
    "# Calculate the metrics\n",
    "total_rows = df.shape[0]  # Total number of rows\n",
    "total_cuisines = df['cuisine'].nunique()  # Total number of unique cuisines\n",
    "unique_ingredients = set(ingredient for ingredients_list in df['ingredients'] for ingredient in ingredients_list)\n",
    "total_ingredients = len(unique_ingredients)  # Total number of unique ingredients\n",
    "\n",
    "print(f\"Total number of rows: {total_rows}\")\n",
    "print(f\"Total number of cuisines: {total_cuisines}\")\n",
    "print(f\"Total number of ingredients: {total_ingredients}\")"
   ]
  },
  {
   "cell_type": "markdown",
   "id": "83eed99a-f56c-442d-9097-8ccf19f0b392",
   "metadata": {},
   "source": [
    "### Cuisine Distribution"
   ]
  },
  {
   "cell_type": "code",
   "execution_count": 123,
   "id": "98d73f92-5cda-44bf-9605-d54b1c044c06",
   "metadata": {},
   "outputs": [
    {
     "name": "stdout",
     "output_type": "stream",
     "text": [
      "cuisine\n",
      "italian         7838\n",
      "mexican         6438\n",
      "southern_us     4320\n",
      "indian          3003\n",
      "chinese         2673\n",
      "french          2646\n",
      "cajun_creole    1546\n",
      "thai            1539\n",
      "japanese        1423\n",
      "greek           1175\n",
      "spanish          989\n",
      "korean           830\n",
      "vietnamese       825\n",
      "moroccan         821\n",
      "british          804\n",
      "filipino         755\n",
      "irish            667\n",
      "jamaican         526\n",
      "russian          489\n",
      "brazilian        467\n",
      "Name: count, dtype: int64\n"
     ]
    }
   ],
   "source": [
    "cuisine_counts = df['cuisine'].value_counts()\n",
    "print(cuisine_counts)"
   ]
  },
  {
   "cell_type": "markdown",
   "id": "67971a2b-b640-40be-86c3-ec233974617b",
   "metadata": {},
   "source": [
    "### Ingredient Counts"
   ]
  },
  {
   "cell_type": "code",
   "execution_count": 124,
   "id": "e4116974-7f2d-4b33-b5bd-a6bacb75f4e4",
   "metadata": {},
   "outputs": [
    {
     "name": "stdout",
     "output_type": "stream",
     "text": [
      "Most Common 10 Ingredients:\n",
      "[('salt', 18049), ('onions', 7972), ('olive oil', 7972), ('water', 7457), ('garlic', 7380), ('sugar', 6434), ('garlic cloves', 6237), ('butter', 4848), ('ground black pepper', 4785), ('all-purpose flour', 4632)]\n",
      "\n",
      "Least Common 10 Ingredients:\n",
      "[('crushed cheese crackers', 1), ('tomato garlic pasta sauce', 1), ('lop chong', 1), ('Hidden Valley® Greek Yogurt Original Ranch® Dip Mix', 1), ('Lipton® Iced Tea Brew Family Size Tea Bags', 1), ('ciabatta loaf', 1), ('cholesterol free egg substitute', 1), ('orange glaze', 1), ('Challenge Butter', 1), ('Oscar Mayer Cotto Salami', 1)]\n"
     ]
    }
   ],
   "source": [
    "from collections import Counter\n",
    "\n",
    "# Flatten the list of ingredients and count occurrences\n",
    "all_ingredients = [ingredient for ingredients_list in df['ingredients'] for ingredient in ingredients_list]\n",
    "ingredient_counts = Counter(all_ingredients)\n",
    "\n",
    "# Most common 10 ingredients\n",
    "most_common_10 = ingredient_counts.most_common(10)\n",
    "\n",
    "# Least common 10 ingredients\n",
    "least_common_10 = ingredient_counts.most_common()[:-11:-1]\n",
    "\n",
    "print(\"Most Common 10 Ingredients:\")\n",
    "print(most_common_10)\n",
    "\n",
    "print(\"\\nLeast Common 10 Ingredients:\")\n",
    "print(least_common_10)"
   ]
  },
  {
   "cell_type": "markdown",
   "id": "19f41465-1967-42f7-b3f2-46992f048674",
   "metadata": {},
   "source": [
    "## 2. Data PreProcessing"
   ]
  },
  {
   "cell_type": "markdown",
   "id": "0339863c-9e15-4a34-8ad1-b1d706816102",
   "metadata": {},
   "source": [
    "### Removing Descriptive Modifiers\n",
    "The following factors have been taken in consider when merging ingredients\n",
    "- Frequency of usage\n",
    "- Meaning of modifier\n",
    "    - Although \"Old Bay Seasoning\" was used in 98 recipes, out of 2212 total recipes which ends with the word \"seasoning,\" it was merged because the modifier \"Old Bay\" refers to a brand\n",
    "- Spacing issues\n",
    "    - e.g. poppyseeds > poppy seeds"
   ]
  },
  {
   "cell_type": "code",
   "execution_count": 125,
   "id": "03754312-3537-4c04-ae22-138cd7f0fdd0",
   "metadata": {},
   "outputs": [
    {
     "name": "stdout",
     "output_type": "stream",
     "text": [
      "Words used more than 15 times:\n",
      "{'sauce': 188, 'paste': 70, 'milk': 50, 'tomatoes': 51, 'beans': 80, 'cheese': 163, 'yogurt': 43, 'broth': 65, 'ham': 38, 'seasoning': 67, 'mix': 119, 'beef': 20, 'noodles': 45, 'juice': 71, 'powder': 83, 'squash': 17, 'flakes': 29, 'vinegar': 45, 'steaks': 29, 'water': 28, 'pepper': 50, 'flour': 70, 'butter': 38, 'extract': 30, 'liqueur': 30, 'oil': 70, 'syrup': 43, 'almonds': 16, 'pasta': 31, 'slices': 22, 'chile': 21, 'fillets': 55, 'sausage': 52, 'seeds': 37, 'apples': 18, 'bacon': 22, 'halves': 19, 'rice': 56, 'bread': 45, 'dressing': 44, 'leaves': 67, 'tortillas': 16, 'corn': 17, 'mushrooms': 32, 'potatoes': 24, 'salt': 41, 'chips': 29, 'crust': 20, 'chocolate': 18, 'spray': 16, 'sugar': 48, 'peppers': 21, 'mayonnaise': 17, 'soup': 45, 'roast': 32, 'steak': 36, 'meat': 34, 'stock': 44, 'onion': 18, 'cream': 56, 'dough': 21, 'salsa': 22, 'garlic': 17, 'chicken': 25, 'olives': 30, 'peas': 19, 'chops': 20, 'crumbs': 23, 'rolls': 33, 'buns': 19, 'mustard': 26, 'shrimp': 16, 'wine': 27, 'shells': 21, 'spread': 16, 'tofu': 16}\n",
      "count:  76\n"
     ]
    }
   ],
   "source": [
    "# Create a list of all unique ingredients across the dataset\n",
    "unique_ingredients_list = set(ingredient.lower() for ingredients_list in df['ingredients'] for ingredient in ingredients_list)\n",
    "\n",
    "# Convert the set to a sorted list for better readability\n",
    "sorted_unique_ingredients = sorted(unique_ingredients_list)\n",
    "\n",
    "# Extract the last word from each ingredient and count occurrences\n",
    "last_word_counts = Counter(ingredient.split()[-1] for ingredient in sorted_unique_ingredients)\n",
    "\n",
    "# Filter and print words used more than 15 times\n",
    "frequent_last_words = {word: count for word, count in last_word_counts.items() if count > 15}\n",
    "\n",
    "# Print the filtered dictionary\n",
    "print(\"Words used more than 15 times:\")\n",
    "print(frequent_last_words)\n",
    "print(\"count: \", len(frequent_last_words))"
   ]
  },
  {
   "cell_type": "markdown",
   "id": "e6d9df28-01ab-4f8a-b428-817f05bf0d6f",
   "metadata": {},
   "source": [
    "#### Filter unique ingredients that end with \"milk\""
   ]
  },
  {
   "cell_type": "code",
   "execution_count": 126,
   "id": "0e1e2e67-7686-4301-a923-7066776765a2",
   "metadata": {},
   "outputs": [],
   "source": [
    "def cleaned_with_frequency(ingredients, data):\n",
    "    # Extract the last word of the first ingredient (e.g., \"squash\" from \"banana squash\")\n",
    "    last_word = ingredients[0].split()[-1].lower()\n",
    "    # Count rows where the generalized last word is used\n",
    "    rows_with_last_word = df[df['ingredients'].apply(\n",
    "        lambda x: any(last_word in ingredient.lower() for ingredient in x)\n",
    "    )]\n",
    "    total_last_word_count = len(rows_with_last_word)\n",
    "    # Count rows where each specific ingredient is used\n",
    "    ingredient_frequencies = {}\n",
    "    for ingredient in ingredients:\n",
    "        rows_with_ingredient = df[df['ingredients'].apply(\n",
    "            lambda x: any(ingredient.lower() in ingredient_in_row.lower() for ingredient_in_row in x)\n",
    "        )]\n",
    "        total_ingredient_count = len(rows_with_ingredient)\n",
    "        \n",
    "        # Calculate percentage frequency\n",
    "        if total_last_word_count > 0:\n",
    "            percentage_frequency = (total_ingredient_count / total_last_word_count) * 100\n",
    "        else:\n",
    "            percentage_frequency = 0\n",
    "        \n",
    "        # Add to the dictionary\n",
    "        ingredient_frequencies[ingredient] = round(percentage_frequency, 2)\n",
    "    \n",
    "    return ingredient_frequencies"
   ]
  },
  {
   "cell_type": "code",
   "execution_count": 128,
   "id": "88f6180c-b722-427a-8330-12d89038c831",
   "metadata": {},
   "outputs": [
    {
     "name": "stdout",
     "output_type": "stream",
     "text": [
      "Unique ingredients that end with  32\n"
     ]
    },
    {
     "ename": "TypeError",
     "evalue": "'list' object is not callable",
     "output_type": "error",
     "traceback": [
      "\u001b[0;31m---------------------------------------------------------------------------\u001b[0m",
      "\u001b[0;31mTypeError\u001b[0m                                 Traceback (most recent call last)",
      "Cell \u001b[0;32mIn[128], line 9\u001b[0m\n\u001b[1;32m      3\u001b[0m \u001b[38;5;28mprint\u001b[39m(\u001b[38;5;124m\"\u001b[39m\u001b[38;5;124mUnique ingredients that end with \u001b[39m\u001b[38;5;124m\"\u001b[39m, \u001b[38;5;28mlen\u001b[39m(ingredients_with_))\n\u001b[1;32m      5\u001b[0m mapping \u001b[38;5;241m=\u001b[39m {\n\u001b[1;32m      6\u001b[0m \n\u001b[1;32m      7\u001b[0m }\n\u001b[0;32m----> 9\u001b[0m cleaned_ \u001b[38;5;241m=\u001b[39m \u001b[43mclean_ingredients_with_mapping\u001b[49m\u001b[43m(\u001b[49m\u001b[43mingredients_with_\u001b[49m\u001b[43m,\u001b[49m\u001b[43m \u001b[49m\u001b[43mmapping\u001b[49m\u001b[43m)\u001b[49m\n\u001b[1;32m     11\u001b[0m \u001b[38;5;28mprint\u001b[39m(\u001b[38;5;124m\"\u001b[39m\u001b[38;5;124mCleaned ingredients:\u001b[39m\u001b[38;5;124m\"\u001b[39m, \u001b[38;5;28mlen\u001b[39m(cleaned_))\n\u001b[1;32m     12\u001b[0m \u001b[38;5;28mprint\u001b[39m(cleaned_with_frequency(cleaned_, data))\n",
      "Cell \u001b[0;32mIn[8], line 18\u001b[0m, in \u001b[0;36mclean_ingredients_with_mapping\u001b[0;34m(ingredients, mapping)\u001b[0m\n\u001b[1;32m     16\u001b[0m         cleaned\u001b[38;5;241m.\u001b[39mappend(ingredient)\n\u001b[1;32m     17\u001b[0m \u001b[38;5;66;03m# Return unique cleaned ingredients while preserving order\u001b[39;00m\n\u001b[0;32m---> 18\u001b[0m \u001b[38;5;28;01mreturn\u001b[39;00m \u001b[38;5;28;43mlist\u001b[39;49m\u001b[43m(\u001b[49m\u001b[38;5;28;43mdict\u001b[39;49m\u001b[38;5;241;43m.\u001b[39;49m\u001b[43mfromkeys\u001b[49m\u001b[43m(\u001b[49m\u001b[43mcleaned\u001b[49m\u001b[43m)\u001b[49m\u001b[43m)\u001b[49m\n",
      "\u001b[0;31mTypeError\u001b[0m: 'list' object is not callable"
     ]
    }
   ],
   "source": [
    "ingredients_with_ = [ingredient for ingredient in sorted_unique_ingredients if ingredient.endswith(\"mushrooms\")]\n",
    "\n",
    "print(\"Unique ingredients that end with \", len(ingredients_with_))\n",
    "\n",
    "mapping = {\n",
    "\n",
    "}\n",
    "\n",
    "cleaned_ = clean_ingredients_with_mapping(ingredients_with_, mapping)\n",
    "\n",
    "print(\"Cleaned ingredients:\", len(cleaned_))\n",
    "print(cleaned_with_frequency(cleaned_, data))"
   ]
  },
  {
   "cell_type": "code",
   "execution_count": 129,
   "id": "744e1693-f6bb-44a6-a75b-63e1e03efdcb",
   "metadata": {},
   "outputs": [
    {
     "name": "stdout",
     "output_type": "stream",
     "text": [
      "['baby portobello mushrooms', 'black mushrooms', 'black trumpet mushrooms', 'brown beech mushrooms', 'button mushrooms', 'chestnut mushrooms', 'chinese black mushrooms', 'cremini mushrooms', 'crimini mushrooms', 'diced mushrooms', 'dried black mushrooms', 'dried mushrooms', 'dried porcini mushrooms', 'dried shiitake mushrooms', 'dried wood ear mushrooms', 'fresh mushrooms', 'fresh shiitake mushrooms', 'green giant™ sliced mushrooms', 'maitake mushrooms', 'matsutake mushrooms', 'mixed mushrooms', 'mushrooms', 'oyster mushrooms', 'shimeji mushrooms', 'sliced mushrooms', 'straw mushrooms', 'tree ear mushrooms', 'white button mushrooms', 'white mushrooms', 'wild mushrooms', 'wood ear mushrooms', 'wood mushrooms']\n"
     ]
    }
   ],
   "source": [
    "ingredients_with_ = [ingredient for ingredient in sorted_unique_ingredients if ingredient.endswith(\"mushrooms\")]\n",
    "print(ingredients_with_)"
   ]
  },
  {
   "cell_type": "markdown",
   "id": "ea3a278e-56ed-4492-ac69-0f0b36db0d54",
   "metadata": {},
   "source": [
    "### Function: Ingredient Cleaner\n",
    "\n",
    "The clean_ingredients function processes a list of ingredient names by standardizing them using a predefined keyword_mapping dictionary. Each ingredient is normalized to lowercase to ensure case-insensitive matching and then checked for the presence of any keywords from the dictionary. If a keyword is found within an ingredient name, the function replaces the name with the corresponding value from the dictionary, appending it to a cleaned list. If no keywords match, the original ingredient name is preserved. This ensures that variations of ingredient names are grouped under a standardized name, reducing redundancy. The function returns the processed list of ingredients, where each name is either mapped to a generalized term or left unchanged if no match is found."
   ]
  },
  {
   "cell_type": "code",
   "execution_count": 8,
   "id": "0dc27f6c-bb5e-4ee1-b858-724a4718386e",
   "metadata": {},
   "outputs": [],
   "source": [
    "def clean_ingredients_with_mapping(ingredients, mapping):\n",
    "    cleaned = []\n",
    "    for ingredient in ingredients:\n",
    "        # Normalize ingredient to lowercase for case-insensitive matching\n",
    "        lower_ingredient = ingredient.lower()\n",
    "        found = False\n",
    "        # Check the mapping dictionary for matching keywords\n",
    "        for generalized_name, keywords in mapping.items():\n",
    "            # If any keyword matches, use the generalized name\n",
    "            if any(keyword in lower_ingredient for keyword in keywords):\n",
    "                cleaned.append(generalized_name)\n",
    "                found = True\n",
    "                break\n",
    "        # If no mapping applies, keep the original ingredient\n",
    "        if not found:\n",
    "            cleaned.append(ingredient)\n",
    "    # Return unique cleaned ingredients while preserving order\n",
    "    return list(dict.fromkeys(cleaned))"
   ]
  },
  {
   "cell_type": "markdown",
   "id": "e417e634-1923-45a5-b309-9bc24e7a2bf6",
   "metadata": {},
   "source": [
    "#### Function: Merge or Leave Distinguisher\n",
    "The function analyzes the usage of a specific ingredient in relation to a generalized ingredient within a recipe dataset to decide whether the specific ingredient should be merged with the generalized one or left as distinct. It calculates the total number of recipes that include the generalized ingredient and the specific ingredient, computes the percentage of recipes containing the specific ingredient relative to the generalized ingredient, and makes a decision based on a user-defined threshold. The function returns a dictionary with the total recipe counts for both ingredients, the computed percentage, and a decision (\"merge\" or \"leave\") depending on whether the specific ingredient’s percentage is below the threshold. This is particularly useful for cleaning and simplifying ingredient data while preserving significant variations in recipe datasets."
   ]
  },
  {
   "cell_type": "code",
   "execution_count": 9,
   "id": "573132e5-bdd4-4a4a-b9c1-0881a4146192",
   "metadata": {},
   "outputs": [
    {
     "name": "stdout",
     "output_type": "stream",
     "text": [
      "Total recipes that use 'water': 9499\n",
      "Total recipes that use 'cashew nuts': 218\n",
      "Percentage of 'cashew nuts': 2.29%\n",
      "Decision: merge\n"
     ]
    }
   ],
   "source": [
    "def analyze_ingredient_usage(data, specific_ingredient, generalized_ingredient, threshold=5):\n",
    "    \"\"\"\n",
    "    Analyzes the usage of a specific ingredient compared to its generalized ingredient.\n",
    "    \"\"\"\n",
    "    # Ensure 'ingredients' column is in list format\n",
    "    data['ingredients'] = data['ingredients'].apply(lambda x: ast.literal_eval(x) if isinstance(x, str) else x)\n",
    "    \n",
    "    # Filter recipes containing the generalized ingredient\n",
    "    recipes_with_generalized = data[data['ingredients'].apply(\n",
    "        lambda x: any(generalized_ingredient.lower() in ingredient.lower() for ingredient in x)\n",
    "    )]\n",
    "    total_with_generalized = len(recipes_with_generalized)\n",
    "    \n",
    "    # Filter recipes containing the specific ingredient\n",
    "    recipes_with_specific = data[data['ingredients'].apply(\n",
    "        lambda x: any(specific_ingredient.lower() in ingredient.lower() for ingredient in x)\n",
    "    )]\n",
    "    total_with_specific = len(recipes_with_specific)\n",
    "    \n",
    "    # Calculate the percentage of specific ingredient\n",
    "    if total_with_generalized > 0:\n",
    "        percentage = (total_with_specific / total_with_generalized) * 100\n",
    "    else:\n",
    "        percentage = 0\n",
    "\n",
    "    # Decide whether to merge or leave\n",
    "    decision = \"merge\" if percentage < threshold else \"leave\"\n",
    "    \n",
    "    return {\n",
    "        \"total_recipes_with_generalized\": total_with_generalized,\n",
    "        \"total_recipes_with_specific\": total_with_specific,\n",
    "        \"percentage\": percentage,\n",
    "        \"decision\": decision\n",
    "    }\n",
    "\n",
    "# Example usage\n",
    "data = pd.read_json(\"train.json\")  # Load the dataset\n",
    "\n",
    "\n",
    "specific_ingredient = \"cashew nuts\"\n",
    "generalized_ingredient = \"water\"\n",
    "threshold = 5  # Percentage threshold\n",
    "\n",
    "result = analyze_ingredient_usage(data, specific_ingredient, generalized_ingredient, threshold)\n",
    "\n",
    "# Print results\n",
    "print(f\"Total recipes that use '{generalized_ingredient}': {result['total_recipes_with_generalized']}\")\n",
    "print(f\"Total recipes that use '{specific_ingredient}': {result['total_recipes_with_specific']}\")\n",
    "print(f\"Percentage of '{specific_ingredient}': {result['percentage']:.2f}%\")\n",
    "print(f\"Decision: {result['decision']}\")"
   ]
  },
  {
   "cell_type": "markdown",
   "id": "958b8e3d-4ffd-4720-9557-5f5d335e950e",
   "metadata": {},
   "source": [
    "#### Mapping Applier Function"
   ]
  },
  {
   "cell_type": "code",
   "execution_count": 132,
   "id": "c319e072-694c-4393-ac0c-dcc5b9de3c56",
   "metadata": {},
   "outputs": [],
   "source": [
    "import pandas as pd\n",
    "import json\n",
    "\n",
    "def mapping_applier(data, mappings, output_json=\"train_cleaned.json\", log_file=\"mapping_changes.txt\"):\n",
    "    \"\"\"\n",
    "    Applies ingredient mappings to clean the dataset and logs changes.\n",
    "\n",
    "    Args:\n",
    "        data (pd.DataFrame): The dataset containing an 'ingredients' column with lists of ingredients.\n",
    "        mappings (dict): A dictionary mapping last words to standardized ingredients.\n",
    "        output_json (str): Filename for the cleaned dataset.\n",
    "        log_file (str): Filename for logging changes.\n",
    "\n",
    "    Returns:\n",
    "        None\n",
    "    \"\"\"\n",
    "    changes = []  # List to store changes for logging\n",
    "\n",
    "    def map_ingredient(ingredient):\n",
    "        \"\"\"Maps an individual ingredient based on the last-word mappings.\"\"\"\n",
    "        if not isinstance(ingredient, str):  # Ensure ingredient is a string\n",
    "            return ingredient\n",
    "#dried shiitake mushrooms > words = [\"dried\", \"shiitake\", \"mushrooms\"]\n",
    "        words = ingredient.lower().split()  # Split ingredient into words\n",
    "        last_word = words[-1] if words else \"\"  # Extract last word safely\n",
    "\n",
    "        if last_word in mappings:  # Check if last word exists in mappings\n",
    "            word_mapping = mappings[last_word]  # Get mapping dictionary\n",
    "#\"mushrooms\" : [\"diced mushrooms\", \"fresh mushrooms\", \"sliced mushrooms\"],\n",
    "#\"shiitake mushrooms\" : [\"shiitake\"]\n",
    "            for key, value in word_mapping.items():\n",
    "                for i in value:\n",
    "                    if i in words:  # Ensure full word matches\n",
    "                        if ingredient != key:  # Only log changes\n",
    "                            changes.append(f'\"{ingredient}\" > \"{key}\"')\n",
    "                        return key  # Apply mapping\n",
    "\n",
    "        return ingredient  # Return unchanged if no mapping applies\n",
    "\n",
    "    # Apply mapping correctly by iterating through ingredient lists\n",
    "    data[\"ingredients\"] = data[\"ingredients\"].apply(\n",
    "        lambda ingredient_list: [map_ingredient(ingredient) for ingredient in ingredient_list]\n",
    "        if isinstance(ingredient_list, list) else ingredient_list  # Ensure it's a list\n",
    "    )\n",
    "\n",
    "    # Save the cleaned dataset\n",
    "    data.to_json(output_json, orient=\"records\", indent=4)\n",
    "\n",
    "    # Save mapping log\n",
    "    if changes:  # Only write if there are changes\n",
    "        with open(log_file, \"w\") as log:\n",
    "            log.write(\"\\n\".join(changes))\n",
    "        print(f\"Mapping applied. Cleaned dataset saved to {output_json}. Changes logged in {log_file}.\")\n",
    "    else:\n",
    "        print(\"No mappings applied. Check your mapping dictionary or input data.\")"
   ]
  },
  {
   "cell_type": "code",
   "execution_count": 133,
   "id": "5db7b047-1444-4232-b428-7ada69cddc43",
   "metadata": {},
   "outputs": [
    {
     "ename": "TypeError",
     "evalue": "isinstance() arg 2 must be a type, a tuple of types, or a union",
     "output_type": "error",
     "traceback": [
      "\u001b[0;31m---------------------------------------------------------------------------\u001b[0m",
      "\u001b[0;31mTypeError\u001b[0m                                 Traceback (most recent call last)",
      "Cell \u001b[0;32mIn[133], line 22\u001b[0m\n\u001b[1;32m      2\u001b[0m mappings \u001b[38;5;241m=\u001b[39m {\n\u001b[1;32m      3\u001b[0m     \u001b[38;5;124m\"\u001b[39m\u001b[38;5;124moil\u001b[39m\u001b[38;5;124m\"\u001b[39m: {\n\u001b[1;32m      4\u001b[0m         \u001b[38;5;124m\"\u001b[39m\u001b[38;5;124molive oil\u001b[39m\u001b[38;5;124m\"\u001b[39m : [\u001b[38;5;124m\"\u001b[39m\u001b[38;5;124molive\u001b[39m\u001b[38;5;124m\"\u001b[39m],\n\u001b[0;32m   (...)\u001b[0m\n\u001b[1;32m     18\u001b[0m     \n\u001b[1;32m     19\u001b[0m }\n\u001b[1;32m     21\u001b[0m \u001b[38;5;66;03m# Apply the mapping\u001b[39;00m\n\u001b[0;32m---> 22\u001b[0m \u001b[43mmapping_applier\u001b[49m\u001b[43m(\u001b[49m\u001b[43mdata\u001b[49m\u001b[43m,\u001b[49m\u001b[43m \u001b[49m\u001b[43mmappings\u001b[49m\u001b[43m)\u001b[49m\n",
      "Cell \u001b[0;32mIn[132], line 41\u001b[0m, in \u001b[0;36mmapping_applier\u001b[0;34m(data, mappings, output_json, log_file)\u001b[0m\n\u001b[1;32m     38\u001b[0m     \u001b[38;5;28;01mreturn\u001b[39;00m ingredient  \u001b[38;5;66;03m# Return unchanged if no mapping applies\u001b[39;00m\n\u001b[1;32m     40\u001b[0m \u001b[38;5;66;03m# Apply mapping correctly by iterating through ingredient lists\u001b[39;00m\n\u001b[0;32m---> 41\u001b[0m data[\u001b[38;5;124m\"\u001b[39m\u001b[38;5;124mingredients\u001b[39m\u001b[38;5;124m\"\u001b[39m] \u001b[38;5;241m=\u001b[39m \u001b[43mdata\u001b[49m\u001b[43m[\u001b[49m\u001b[38;5;124;43m\"\u001b[39;49m\u001b[38;5;124;43mingredients\u001b[39;49m\u001b[38;5;124;43m\"\u001b[39;49m\u001b[43m]\u001b[49m\u001b[38;5;241;43m.\u001b[39;49m\u001b[43mapply\u001b[49m\u001b[43m(\u001b[49m\n\u001b[1;32m     42\u001b[0m \u001b[43m    \u001b[49m\u001b[38;5;28;43;01mlambda\u001b[39;49;00m\u001b[43m \u001b[49m\u001b[43mingredient_list\u001b[49m\u001b[43m:\u001b[49m\u001b[43m \u001b[49m\u001b[43m[\u001b[49m\u001b[43mmap_ingredient\u001b[49m\u001b[43m(\u001b[49m\u001b[43mingredient\u001b[49m\u001b[43m)\u001b[49m\u001b[43m \u001b[49m\u001b[38;5;28;43;01mfor\u001b[39;49;00m\u001b[43m \u001b[49m\u001b[43mingredient\u001b[49m\u001b[43m \u001b[49m\u001b[38;5;129;43;01min\u001b[39;49;00m\u001b[43m \u001b[49m\u001b[43mingredient_list\u001b[49m\u001b[43m]\u001b[49m\n\u001b[1;32m     43\u001b[0m \u001b[43m    \u001b[49m\u001b[38;5;28;43;01mif\u001b[39;49;00m\u001b[43m \u001b[49m\u001b[38;5;28;43misinstance\u001b[39;49m\u001b[43m(\u001b[49m\u001b[43mingredient_list\u001b[49m\u001b[43m,\u001b[49m\u001b[43m \u001b[49m\u001b[38;5;28;43mlist\u001b[39;49m\u001b[43m)\u001b[49m\u001b[43m \u001b[49m\u001b[38;5;28;43;01melse\u001b[39;49;00m\u001b[43m \u001b[49m\u001b[43mingredient_list\u001b[49m\u001b[43m  \u001b[49m\u001b[38;5;66;43;03m# Ensure it's a list\u001b[39;49;00m\n\u001b[1;32m     44\u001b[0m \u001b[43m\u001b[49m\u001b[43m)\u001b[49m\n\u001b[1;32m     46\u001b[0m \u001b[38;5;66;03m# Save the cleaned dataset\u001b[39;00m\n\u001b[1;32m     47\u001b[0m data\u001b[38;5;241m.\u001b[39mto_json(output_json, orient\u001b[38;5;241m=\u001b[39m\u001b[38;5;124m\"\u001b[39m\u001b[38;5;124mrecords\u001b[39m\u001b[38;5;124m\"\u001b[39m, indent\u001b[38;5;241m=\u001b[39m\u001b[38;5;241m4\u001b[39m)\n",
      "File \u001b[0;32m/Library/Frameworks/Python.framework/Versions/3.13/lib/python3.13/site-packages/pandas/core/series.py:4924\u001b[0m, in \u001b[0;36mSeries.apply\u001b[0;34m(self, func, convert_dtype, args, by_row, **kwargs)\u001b[0m\n\u001b[1;32m   4789\u001b[0m \u001b[38;5;28;01mdef\u001b[39;00m \u001b[38;5;21mapply\u001b[39m(\n\u001b[1;32m   4790\u001b[0m     \u001b[38;5;28mself\u001b[39m,\n\u001b[1;32m   4791\u001b[0m     func: AggFuncType,\n\u001b[0;32m   (...)\u001b[0m\n\u001b[1;32m   4796\u001b[0m     \u001b[38;5;241m*\u001b[39m\u001b[38;5;241m*\u001b[39mkwargs,\n\u001b[1;32m   4797\u001b[0m ) \u001b[38;5;241m-\u001b[39m\u001b[38;5;241m>\u001b[39m DataFrame \u001b[38;5;241m|\u001b[39m Series:\n\u001b[1;32m   4798\u001b[0m \u001b[38;5;250m    \u001b[39m\u001b[38;5;124;03m\"\"\"\u001b[39;00m\n\u001b[1;32m   4799\u001b[0m \u001b[38;5;124;03m    Invoke function on values of Series.\u001b[39;00m\n\u001b[1;32m   4800\u001b[0m \n\u001b[0;32m   (...)\u001b[0m\n\u001b[1;32m   4915\u001b[0m \u001b[38;5;124;03m    dtype: float64\u001b[39;00m\n\u001b[1;32m   4916\u001b[0m \u001b[38;5;124;03m    \"\"\"\u001b[39;00m\n\u001b[1;32m   4917\u001b[0m     \u001b[38;5;28;01mreturn\u001b[39;00m \u001b[43mSeriesApply\u001b[49m\u001b[43m(\u001b[49m\n\u001b[1;32m   4918\u001b[0m \u001b[43m        \u001b[49m\u001b[38;5;28;43mself\u001b[39;49m\u001b[43m,\u001b[49m\n\u001b[1;32m   4919\u001b[0m \u001b[43m        \u001b[49m\u001b[43mfunc\u001b[49m\u001b[43m,\u001b[49m\n\u001b[1;32m   4920\u001b[0m \u001b[43m        \u001b[49m\u001b[43mconvert_dtype\u001b[49m\u001b[38;5;241;43m=\u001b[39;49m\u001b[43mconvert_dtype\u001b[49m\u001b[43m,\u001b[49m\n\u001b[1;32m   4921\u001b[0m \u001b[43m        \u001b[49m\u001b[43mby_row\u001b[49m\u001b[38;5;241;43m=\u001b[39;49m\u001b[43mby_row\u001b[49m\u001b[43m,\u001b[49m\n\u001b[1;32m   4922\u001b[0m \u001b[43m        \u001b[49m\u001b[43margs\u001b[49m\u001b[38;5;241;43m=\u001b[39;49m\u001b[43margs\u001b[49m\u001b[43m,\u001b[49m\n\u001b[1;32m   4923\u001b[0m \u001b[43m        \u001b[49m\u001b[43mkwargs\u001b[49m\u001b[38;5;241;43m=\u001b[39;49m\u001b[43mkwargs\u001b[49m\u001b[43m,\u001b[49m\n\u001b[0;32m-> 4924\u001b[0m \u001b[43m    \u001b[49m\u001b[43m)\u001b[49m\u001b[38;5;241;43m.\u001b[39;49m\u001b[43mapply\u001b[49m\u001b[43m(\u001b[49m\u001b[43m)\u001b[49m\n",
      "File \u001b[0;32m/Library/Frameworks/Python.framework/Versions/3.13/lib/python3.13/site-packages/pandas/core/apply.py:1427\u001b[0m, in \u001b[0;36mSeriesApply.apply\u001b[0;34m(self)\u001b[0m\n\u001b[1;32m   1424\u001b[0m     \u001b[38;5;28;01mreturn\u001b[39;00m \u001b[38;5;28mself\u001b[39m\u001b[38;5;241m.\u001b[39mapply_compat()\n\u001b[1;32m   1426\u001b[0m \u001b[38;5;66;03m# self.func is Callable\u001b[39;00m\n\u001b[0;32m-> 1427\u001b[0m \u001b[38;5;28;01mreturn\u001b[39;00m \u001b[38;5;28;43mself\u001b[39;49m\u001b[38;5;241;43m.\u001b[39;49m\u001b[43mapply_standard\u001b[49m\u001b[43m(\u001b[49m\u001b[43m)\u001b[49m\n",
      "File \u001b[0;32m/Library/Frameworks/Python.framework/Versions/3.13/lib/python3.13/site-packages/pandas/core/apply.py:1507\u001b[0m, in \u001b[0;36mSeriesApply.apply_standard\u001b[0;34m(self)\u001b[0m\n\u001b[1;32m   1501\u001b[0m \u001b[38;5;66;03m# row-wise access\u001b[39;00m\n\u001b[1;32m   1502\u001b[0m \u001b[38;5;66;03m# apply doesn't have a `na_action` keyword and for backward compat reasons\u001b[39;00m\n\u001b[1;32m   1503\u001b[0m \u001b[38;5;66;03m# we need to give `na_action=\"ignore\"` for categorical data.\u001b[39;00m\n\u001b[1;32m   1504\u001b[0m \u001b[38;5;66;03m# TODO: remove the `na_action=\"ignore\"` when that default has been changed in\u001b[39;00m\n\u001b[1;32m   1505\u001b[0m \u001b[38;5;66;03m#  Categorical (GH51645).\u001b[39;00m\n\u001b[1;32m   1506\u001b[0m action \u001b[38;5;241m=\u001b[39m \u001b[38;5;124m\"\u001b[39m\u001b[38;5;124mignore\u001b[39m\u001b[38;5;124m\"\u001b[39m \u001b[38;5;28;01mif\u001b[39;00m \u001b[38;5;28misinstance\u001b[39m(obj\u001b[38;5;241m.\u001b[39mdtype, CategoricalDtype) \u001b[38;5;28;01melse\u001b[39;00m \u001b[38;5;28;01mNone\u001b[39;00m\n\u001b[0;32m-> 1507\u001b[0m mapped \u001b[38;5;241m=\u001b[39m \u001b[43mobj\u001b[49m\u001b[38;5;241;43m.\u001b[39;49m\u001b[43m_map_values\u001b[49m\u001b[43m(\u001b[49m\n\u001b[1;32m   1508\u001b[0m \u001b[43m    \u001b[49m\u001b[43mmapper\u001b[49m\u001b[38;5;241;43m=\u001b[39;49m\u001b[43mcurried\u001b[49m\u001b[43m,\u001b[49m\u001b[43m \u001b[49m\u001b[43mna_action\u001b[49m\u001b[38;5;241;43m=\u001b[39;49m\u001b[43maction\u001b[49m\u001b[43m,\u001b[49m\u001b[43m \u001b[49m\u001b[43mconvert\u001b[49m\u001b[38;5;241;43m=\u001b[39;49m\u001b[38;5;28;43mself\u001b[39;49m\u001b[38;5;241;43m.\u001b[39;49m\u001b[43mconvert_dtype\u001b[49m\n\u001b[1;32m   1509\u001b[0m \u001b[43m\u001b[49m\u001b[43m)\u001b[49m\n\u001b[1;32m   1511\u001b[0m \u001b[38;5;28;01mif\u001b[39;00m \u001b[38;5;28mlen\u001b[39m(mapped) \u001b[38;5;129;01mand\u001b[39;00m \u001b[38;5;28misinstance\u001b[39m(mapped[\u001b[38;5;241m0\u001b[39m], ABCSeries):\n\u001b[1;32m   1512\u001b[0m     \u001b[38;5;66;03m# GH#43986 Need to do list(mapped) in order to get treated as nested\u001b[39;00m\n\u001b[1;32m   1513\u001b[0m     \u001b[38;5;66;03m#  See also GH#25959 regarding EA support\u001b[39;00m\n\u001b[1;32m   1514\u001b[0m     \u001b[38;5;28;01mreturn\u001b[39;00m obj\u001b[38;5;241m.\u001b[39m_constructor_expanddim(\u001b[38;5;28mlist\u001b[39m(mapped), index\u001b[38;5;241m=\u001b[39mobj\u001b[38;5;241m.\u001b[39mindex)\n",
      "File \u001b[0;32m/Library/Frameworks/Python.framework/Versions/3.13/lib/python3.13/site-packages/pandas/core/base.py:921\u001b[0m, in \u001b[0;36mIndexOpsMixin._map_values\u001b[0;34m(self, mapper, na_action, convert)\u001b[0m\n\u001b[1;32m    918\u001b[0m \u001b[38;5;28;01mif\u001b[39;00m \u001b[38;5;28misinstance\u001b[39m(arr, ExtensionArray):\n\u001b[1;32m    919\u001b[0m     \u001b[38;5;28;01mreturn\u001b[39;00m arr\u001b[38;5;241m.\u001b[39mmap(mapper, na_action\u001b[38;5;241m=\u001b[39mna_action)\n\u001b[0;32m--> 921\u001b[0m \u001b[38;5;28;01mreturn\u001b[39;00m \u001b[43malgorithms\u001b[49m\u001b[38;5;241;43m.\u001b[39;49m\u001b[43mmap_array\u001b[49m\u001b[43m(\u001b[49m\u001b[43marr\u001b[49m\u001b[43m,\u001b[49m\u001b[43m \u001b[49m\u001b[43mmapper\u001b[49m\u001b[43m,\u001b[49m\u001b[43m \u001b[49m\u001b[43mna_action\u001b[49m\u001b[38;5;241;43m=\u001b[39;49m\u001b[43mna_action\u001b[49m\u001b[43m,\u001b[49m\u001b[43m \u001b[49m\u001b[43mconvert\u001b[49m\u001b[38;5;241;43m=\u001b[39;49m\u001b[43mconvert\u001b[49m\u001b[43m)\u001b[49m\n",
      "File \u001b[0;32m/Library/Frameworks/Python.framework/Versions/3.13/lib/python3.13/site-packages/pandas/core/algorithms.py:1743\u001b[0m, in \u001b[0;36mmap_array\u001b[0;34m(arr, mapper, na_action, convert)\u001b[0m\n\u001b[1;32m   1741\u001b[0m values \u001b[38;5;241m=\u001b[39m arr\u001b[38;5;241m.\u001b[39mastype(\u001b[38;5;28mobject\u001b[39m, copy\u001b[38;5;241m=\u001b[39m\u001b[38;5;28;01mFalse\u001b[39;00m)\n\u001b[1;32m   1742\u001b[0m \u001b[38;5;28;01mif\u001b[39;00m na_action \u001b[38;5;129;01mis\u001b[39;00m \u001b[38;5;28;01mNone\u001b[39;00m:\n\u001b[0;32m-> 1743\u001b[0m     \u001b[38;5;28;01mreturn\u001b[39;00m \u001b[43mlib\u001b[49m\u001b[38;5;241;43m.\u001b[39;49m\u001b[43mmap_infer\u001b[49m\u001b[43m(\u001b[49m\u001b[43mvalues\u001b[49m\u001b[43m,\u001b[49m\u001b[43m \u001b[49m\u001b[43mmapper\u001b[49m\u001b[43m,\u001b[49m\u001b[43m \u001b[49m\u001b[43mconvert\u001b[49m\u001b[38;5;241;43m=\u001b[39;49m\u001b[43mconvert\u001b[49m\u001b[43m)\u001b[49m\n\u001b[1;32m   1744\u001b[0m \u001b[38;5;28;01melse\u001b[39;00m:\n\u001b[1;32m   1745\u001b[0m     \u001b[38;5;28;01mreturn\u001b[39;00m lib\u001b[38;5;241m.\u001b[39mmap_infer_mask(\n\u001b[1;32m   1746\u001b[0m         values, mapper, mask\u001b[38;5;241m=\u001b[39misna(values)\u001b[38;5;241m.\u001b[39mview(np\u001b[38;5;241m.\u001b[39muint8), convert\u001b[38;5;241m=\u001b[39mconvert\n\u001b[1;32m   1747\u001b[0m     )\n",
      "File \u001b[0;32mlib.pyx:2972\u001b[0m, in \u001b[0;36mpandas._libs.lib.map_infer\u001b[0;34m()\u001b[0m\n",
      "Cell \u001b[0;32mIn[132], line 43\u001b[0m, in \u001b[0;36mmapping_applier.<locals>.<lambda>\u001b[0;34m(ingredient_list)\u001b[0m\n\u001b[1;32m     38\u001b[0m     \u001b[38;5;28;01mreturn\u001b[39;00m ingredient  \u001b[38;5;66;03m# Return unchanged if no mapping applies\u001b[39;00m\n\u001b[1;32m     40\u001b[0m \u001b[38;5;66;03m# Apply mapping correctly by iterating through ingredient lists\u001b[39;00m\n\u001b[1;32m     41\u001b[0m data[\u001b[38;5;124m\"\u001b[39m\u001b[38;5;124mingredients\u001b[39m\u001b[38;5;124m\"\u001b[39m] \u001b[38;5;241m=\u001b[39m data[\u001b[38;5;124m\"\u001b[39m\u001b[38;5;124mingredients\u001b[39m\u001b[38;5;124m\"\u001b[39m]\u001b[38;5;241m.\u001b[39mapply(\n\u001b[1;32m     42\u001b[0m     \u001b[38;5;28;01mlambda\u001b[39;00m ingredient_list: [map_ingredient(ingredient) \u001b[38;5;28;01mfor\u001b[39;00m ingredient \u001b[38;5;129;01min\u001b[39;00m ingredient_list]\n\u001b[0;32m---> 43\u001b[0m     \u001b[38;5;28;01mif\u001b[39;00m \u001b[38;5;28;43misinstance\u001b[39;49m\u001b[43m(\u001b[49m\u001b[43mingredient_list\u001b[49m\u001b[43m,\u001b[49m\u001b[43m \u001b[49m\u001b[38;5;28;43mlist\u001b[39;49m\u001b[43m)\u001b[49m \u001b[38;5;28;01melse\u001b[39;00m ingredient_list  \u001b[38;5;66;03m# Ensure it's a list\u001b[39;00m\n\u001b[1;32m     44\u001b[0m )\n\u001b[1;32m     46\u001b[0m \u001b[38;5;66;03m# Save the cleaned dataset\u001b[39;00m\n\u001b[1;32m     47\u001b[0m data\u001b[38;5;241m.\u001b[39mto_json(output_json, orient\u001b[38;5;241m=\u001b[39m\u001b[38;5;124m\"\u001b[39m\u001b[38;5;124mrecords\u001b[39m\u001b[38;5;124m\"\u001b[39m, indent\u001b[38;5;241m=\u001b[39m\u001b[38;5;241m4\u001b[39m)\n",
      "\u001b[0;31mTypeError\u001b[0m: isinstance() arg 2 must be a type, a tuple of types, or a union"
     ]
    }
   ],
   "source": [
    "# Example mapping dictionary (only showing for 'salt', you should add all 76 mappings)\n",
    "mappings = {\n",
    "    \"oil\": {\n",
    "        \"olive oil\" : [\"olive\"],\n",
    "        \"truffle oil\" : [\"truffle\"],\n",
    "        \"coconut oil\" : [\"coconut\", \"palm\"],\n",
    "        \"canola oil\" : [\"canola\"],\n",
    "        \"vegetable oil\" : [\"vegetable\"],\n",
    "        \"corn oil\" : [\"corn\"],\n",
    "        \"almond oil\" : [\"almond\"],\n",
    "        \"sesame oil\" : [\"sesame\"],\n",
    "        \"tuna in oil\" : [\"tuna\"]\n",
    "    },\n",
    "    \"mushrooms\": {\n",
    "        \"mushrooms\" : [\"diced mushrooms\", \"fresh mushrooms\", \"sliced mushrooms\"],\n",
    "        \"shiitake mushrooms\" : [\"shiitake\"]\n",
    "    }\n",
    "    \n",
    "}\n",
    "\n",
    "# Apply the mapping\n",
    "mapping_applier(data, mappings)"
   ]
  },
  {
   "cell_type": "code",
   "execution_count": 70,
   "id": "7efc4e94-08ec-4932-9c07-95fce9c4ac0d",
   "metadata": {},
   "outputs": [
    {
     "name": "stdout",
     "output_type": "stream",
     "text": [
      "nonstick spray\n"
     ]
    }
   ],
   "source": [
    "print(ingredient)"
   ]
  },
  {
   "cell_type": "code",
   "execution_count": 77,
   "id": "fa298df4-3d3e-461d-bdca-546d040b6888",
   "metadata": {},
   "outputs": [
    {
     "data": {
      "text/plain": [
       "list"
      ]
     },
     "execution_count": 77,
     "metadata": {},
     "output_type": "execute_result"
    }
   ],
   "source": []
  },
  {
   "cell_type": "code",
   "execution_count": 138,
   "id": "4264f131-0293-43f2-a999-0b50b336ab2d",
   "metadata": {
    "scrolled": true
   },
   "outputs": [
    {
     "ename": "TypeError",
     "evalue": "isinstance() arg 2 must be a type, a tuple of types, or a union",
     "output_type": "error",
     "traceback": [
      "\u001b[0;31m---------------------------------------------------------------------------\u001b[0m",
      "\u001b[0;31mTypeError\u001b[0m                                 Traceback (most recent call last)",
      "Cell \u001b[0;32mIn[138], line 37\u001b[0m\n\u001b[1;32m     34\u001b[0m     \u001b[38;5;28;01mreturn\u001b[39;00m ingredient\n\u001b[1;32m     36\u001b[0m \u001b[38;5;66;03m# Apply mapping correctly by iterating through ingredient lists\u001b[39;00m\n\u001b[0;32m---> 37\u001b[0m data[\u001b[38;5;124m\"\u001b[39m\u001b[38;5;124mingredients\u001b[39m\u001b[38;5;124m\"\u001b[39m] \u001b[38;5;241m=\u001b[39m \u001b[43mdata\u001b[49m\u001b[43m[\u001b[49m\u001b[38;5;124;43m\"\u001b[39;49m\u001b[38;5;124;43mingredients\u001b[39;49m\u001b[38;5;124;43m\"\u001b[39;49m\u001b[43m]\u001b[49m\u001b[38;5;241;43m.\u001b[39;49m\u001b[43mapply\u001b[49m\u001b[43m(\u001b[49m\n\u001b[1;32m     38\u001b[0m \u001b[43m    \u001b[49m\u001b[38;5;28;43;01mlambda\u001b[39;49;00m\u001b[43m \u001b[49m\u001b[43mingredient_list\u001b[49m\u001b[43m:\u001b[49m\u001b[43m \u001b[49m\u001b[43m[\u001b[49m\u001b[43mmap_ingredient\u001b[49m\u001b[43m(\u001b[49m\u001b[43mingredient\u001b[49m\u001b[43m)\u001b[49m\u001b[43m \u001b[49m\u001b[38;5;28;43;01mfor\u001b[39;49;00m\u001b[43m \u001b[49m\u001b[43mingredient\u001b[49m\u001b[43m \u001b[49m\u001b[38;5;129;43;01min\u001b[39;49;00m\u001b[43m \u001b[49m\u001b[43mingredient_list\u001b[49m\u001b[43m]\u001b[49m\n\u001b[1;32m     39\u001b[0m \u001b[43m    \u001b[49m\u001b[38;5;28;43;01mif\u001b[39;49;00m\u001b[43m \u001b[49m\u001b[38;5;28;43misinstance\u001b[39;49m\u001b[43m(\u001b[49m\u001b[43mingredient_list\u001b[49m\u001b[43m,\u001b[49m\u001b[43m \u001b[49m\u001b[38;5;28;43mlist\u001b[39;49m\u001b[43m)\u001b[49m\u001b[43m \u001b[49m\u001b[38;5;28;43;01melse\u001b[39;49;00m\u001b[43m \u001b[49m\u001b[43mingredient_list\u001b[49m\u001b[43m  \u001b[49m\u001b[38;5;66;43;03m# Ensure it's a list\u001b[39;49;00m\n\u001b[1;32m     40\u001b[0m \u001b[43m)\u001b[49m\n\u001b[1;32m     42\u001b[0m \u001b[38;5;124;03m'''lambda ingredient_list: [map_ingredient(ingredient) for ingredient in ingredient_list]\u001b[39;00m\n\u001b[1;32m     43\u001b[0m \u001b[38;5;124;03m    if isinstance(ingredient_list, list) else ingredient_list  # Ensure it's a list\u001b[39;00m\n\u001b[1;32m     44\u001b[0m \n\u001b[0;32m   (...)\u001b[0m\n\u001b[1;32m     48\u001b[0m \u001b[38;5;124;03m    else:\u001b[39;00m\n\u001b[1;32m     49\u001b[0m \u001b[38;5;124;03m        ingredient_list'''\u001b[39;00m\n\u001b[1;32m     51\u001b[0m map_ingredient(ingredient)\n",
      "File \u001b[0;32m/Library/Frameworks/Python.framework/Versions/3.13/lib/python3.13/site-packages/pandas/core/series.py:4924\u001b[0m, in \u001b[0;36mSeries.apply\u001b[0;34m(self, func, convert_dtype, args, by_row, **kwargs)\u001b[0m\n\u001b[1;32m   4789\u001b[0m \u001b[38;5;28;01mdef\u001b[39;00m \u001b[38;5;21mapply\u001b[39m(\n\u001b[1;32m   4790\u001b[0m     \u001b[38;5;28mself\u001b[39m,\n\u001b[1;32m   4791\u001b[0m     func: AggFuncType,\n\u001b[0;32m   (...)\u001b[0m\n\u001b[1;32m   4796\u001b[0m     \u001b[38;5;241m*\u001b[39m\u001b[38;5;241m*\u001b[39mkwargs,\n\u001b[1;32m   4797\u001b[0m ) \u001b[38;5;241m-\u001b[39m\u001b[38;5;241m>\u001b[39m DataFrame \u001b[38;5;241m|\u001b[39m Series:\n\u001b[1;32m   4798\u001b[0m \u001b[38;5;250m    \u001b[39m\u001b[38;5;124;03m\"\"\"\u001b[39;00m\n\u001b[1;32m   4799\u001b[0m \u001b[38;5;124;03m    Invoke function on values of Series.\u001b[39;00m\n\u001b[1;32m   4800\u001b[0m \n\u001b[0;32m   (...)\u001b[0m\n\u001b[1;32m   4915\u001b[0m \u001b[38;5;124;03m    dtype: float64\u001b[39;00m\n\u001b[1;32m   4916\u001b[0m \u001b[38;5;124;03m    \"\"\"\u001b[39;00m\n\u001b[1;32m   4917\u001b[0m     \u001b[38;5;28;01mreturn\u001b[39;00m \u001b[43mSeriesApply\u001b[49m\u001b[43m(\u001b[49m\n\u001b[1;32m   4918\u001b[0m \u001b[43m        \u001b[49m\u001b[38;5;28;43mself\u001b[39;49m\u001b[43m,\u001b[49m\n\u001b[1;32m   4919\u001b[0m \u001b[43m        \u001b[49m\u001b[43mfunc\u001b[49m\u001b[43m,\u001b[49m\n\u001b[1;32m   4920\u001b[0m \u001b[43m        \u001b[49m\u001b[43mconvert_dtype\u001b[49m\u001b[38;5;241;43m=\u001b[39;49m\u001b[43mconvert_dtype\u001b[49m\u001b[43m,\u001b[49m\n\u001b[1;32m   4921\u001b[0m \u001b[43m        \u001b[49m\u001b[43mby_row\u001b[49m\u001b[38;5;241;43m=\u001b[39;49m\u001b[43mby_row\u001b[49m\u001b[43m,\u001b[49m\n\u001b[1;32m   4922\u001b[0m \u001b[43m        \u001b[49m\u001b[43margs\u001b[49m\u001b[38;5;241;43m=\u001b[39;49m\u001b[43margs\u001b[49m\u001b[43m,\u001b[49m\n\u001b[1;32m   4923\u001b[0m \u001b[43m        \u001b[49m\u001b[43mkwargs\u001b[49m\u001b[38;5;241;43m=\u001b[39;49m\u001b[43mkwargs\u001b[49m\u001b[43m,\u001b[49m\n\u001b[0;32m-> 4924\u001b[0m \u001b[43m    \u001b[49m\u001b[43m)\u001b[49m\u001b[38;5;241;43m.\u001b[39;49m\u001b[43mapply\u001b[49m\u001b[43m(\u001b[49m\u001b[43m)\u001b[49m\n",
      "File \u001b[0;32m/Library/Frameworks/Python.framework/Versions/3.13/lib/python3.13/site-packages/pandas/core/apply.py:1427\u001b[0m, in \u001b[0;36mSeriesApply.apply\u001b[0;34m(self)\u001b[0m\n\u001b[1;32m   1424\u001b[0m     \u001b[38;5;28;01mreturn\u001b[39;00m \u001b[38;5;28mself\u001b[39m\u001b[38;5;241m.\u001b[39mapply_compat()\n\u001b[1;32m   1426\u001b[0m \u001b[38;5;66;03m# self.func is Callable\u001b[39;00m\n\u001b[0;32m-> 1427\u001b[0m \u001b[38;5;28;01mreturn\u001b[39;00m \u001b[38;5;28;43mself\u001b[39;49m\u001b[38;5;241;43m.\u001b[39;49m\u001b[43mapply_standard\u001b[49m\u001b[43m(\u001b[49m\u001b[43m)\u001b[49m\n",
      "File \u001b[0;32m/Library/Frameworks/Python.framework/Versions/3.13/lib/python3.13/site-packages/pandas/core/apply.py:1507\u001b[0m, in \u001b[0;36mSeriesApply.apply_standard\u001b[0;34m(self)\u001b[0m\n\u001b[1;32m   1501\u001b[0m \u001b[38;5;66;03m# row-wise access\u001b[39;00m\n\u001b[1;32m   1502\u001b[0m \u001b[38;5;66;03m# apply doesn't have a `na_action` keyword and for backward compat reasons\u001b[39;00m\n\u001b[1;32m   1503\u001b[0m \u001b[38;5;66;03m# we need to give `na_action=\"ignore\"` for categorical data.\u001b[39;00m\n\u001b[1;32m   1504\u001b[0m \u001b[38;5;66;03m# TODO: remove the `na_action=\"ignore\"` when that default has been changed in\u001b[39;00m\n\u001b[1;32m   1505\u001b[0m \u001b[38;5;66;03m#  Categorical (GH51645).\u001b[39;00m\n\u001b[1;32m   1506\u001b[0m action \u001b[38;5;241m=\u001b[39m \u001b[38;5;124m\"\u001b[39m\u001b[38;5;124mignore\u001b[39m\u001b[38;5;124m\"\u001b[39m \u001b[38;5;28;01mif\u001b[39;00m \u001b[38;5;28misinstance\u001b[39m(obj\u001b[38;5;241m.\u001b[39mdtype, CategoricalDtype) \u001b[38;5;28;01melse\u001b[39;00m \u001b[38;5;28;01mNone\u001b[39;00m\n\u001b[0;32m-> 1507\u001b[0m mapped \u001b[38;5;241m=\u001b[39m \u001b[43mobj\u001b[49m\u001b[38;5;241;43m.\u001b[39;49m\u001b[43m_map_values\u001b[49m\u001b[43m(\u001b[49m\n\u001b[1;32m   1508\u001b[0m \u001b[43m    \u001b[49m\u001b[43mmapper\u001b[49m\u001b[38;5;241;43m=\u001b[39;49m\u001b[43mcurried\u001b[49m\u001b[43m,\u001b[49m\u001b[43m \u001b[49m\u001b[43mna_action\u001b[49m\u001b[38;5;241;43m=\u001b[39;49m\u001b[43maction\u001b[49m\u001b[43m,\u001b[49m\u001b[43m \u001b[49m\u001b[43mconvert\u001b[49m\u001b[38;5;241;43m=\u001b[39;49m\u001b[38;5;28;43mself\u001b[39;49m\u001b[38;5;241;43m.\u001b[39;49m\u001b[43mconvert_dtype\u001b[49m\n\u001b[1;32m   1509\u001b[0m \u001b[43m\u001b[49m\u001b[43m)\u001b[49m\n\u001b[1;32m   1511\u001b[0m \u001b[38;5;28;01mif\u001b[39;00m \u001b[38;5;28mlen\u001b[39m(mapped) \u001b[38;5;129;01mand\u001b[39;00m \u001b[38;5;28misinstance\u001b[39m(mapped[\u001b[38;5;241m0\u001b[39m], ABCSeries):\n\u001b[1;32m   1512\u001b[0m     \u001b[38;5;66;03m# GH#43986 Need to do list(mapped) in order to get treated as nested\u001b[39;00m\n\u001b[1;32m   1513\u001b[0m     \u001b[38;5;66;03m#  See also GH#25959 regarding EA support\u001b[39;00m\n\u001b[1;32m   1514\u001b[0m     \u001b[38;5;28;01mreturn\u001b[39;00m obj\u001b[38;5;241m.\u001b[39m_constructor_expanddim(\u001b[38;5;28mlist\u001b[39m(mapped), index\u001b[38;5;241m=\u001b[39mobj\u001b[38;5;241m.\u001b[39mindex)\n",
      "File \u001b[0;32m/Library/Frameworks/Python.framework/Versions/3.13/lib/python3.13/site-packages/pandas/core/base.py:921\u001b[0m, in \u001b[0;36mIndexOpsMixin._map_values\u001b[0;34m(self, mapper, na_action, convert)\u001b[0m\n\u001b[1;32m    918\u001b[0m \u001b[38;5;28;01mif\u001b[39;00m \u001b[38;5;28misinstance\u001b[39m(arr, ExtensionArray):\n\u001b[1;32m    919\u001b[0m     \u001b[38;5;28;01mreturn\u001b[39;00m arr\u001b[38;5;241m.\u001b[39mmap(mapper, na_action\u001b[38;5;241m=\u001b[39mna_action)\n\u001b[0;32m--> 921\u001b[0m \u001b[38;5;28;01mreturn\u001b[39;00m \u001b[43malgorithms\u001b[49m\u001b[38;5;241;43m.\u001b[39;49m\u001b[43mmap_array\u001b[49m\u001b[43m(\u001b[49m\u001b[43marr\u001b[49m\u001b[43m,\u001b[49m\u001b[43m \u001b[49m\u001b[43mmapper\u001b[49m\u001b[43m,\u001b[49m\u001b[43m \u001b[49m\u001b[43mna_action\u001b[49m\u001b[38;5;241;43m=\u001b[39;49m\u001b[43mna_action\u001b[49m\u001b[43m,\u001b[49m\u001b[43m \u001b[49m\u001b[43mconvert\u001b[49m\u001b[38;5;241;43m=\u001b[39;49m\u001b[43mconvert\u001b[49m\u001b[43m)\u001b[49m\n",
      "File \u001b[0;32m/Library/Frameworks/Python.framework/Versions/3.13/lib/python3.13/site-packages/pandas/core/algorithms.py:1743\u001b[0m, in \u001b[0;36mmap_array\u001b[0;34m(arr, mapper, na_action, convert)\u001b[0m\n\u001b[1;32m   1741\u001b[0m values \u001b[38;5;241m=\u001b[39m arr\u001b[38;5;241m.\u001b[39mastype(\u001b[38;5;28mobject\u001b[39m, copy\u001b[38;5;241m=\u001b[39m\u001b[38;5;28;01mFalse\u001b[39;00m)\n\u001b[1;32m   1742\u001b[0m \u001b[38;5;28;01mif\u001b[39;00m na_action \u001b[38;5;129;01mis\u001b[39;00m \u001b[38;5;28;01mNone\u001b[39;00m:\n\u001b[0;32m-> 1743\u001b[0m     \u001b[38;5;28;01mreturn\u001b[39;00m \u001b[43mlib\u001b[49m\u001b[38;5;241;43m.\u001b[39;49m\u001b[43mmap_infer\u001b[49m\u001b[43m(\u001b[49m\u001b[43mvalues\u001b[49m\u001b[43m,\u001b[49m\u001b[43m \u001b[49m\u001b[43mmapper\u001b[49m\u001b[43m,\u001b[49m\u001b[43m \u001b[49m\u001b[43mconvert\u001b[49m\u001b[38;5;241;43m=\u001b[39;49m\u001b[43mconvert\u001b[49m\u001b[43m)\u001b[49m\n\u001b[1;32m   1744\u001b[0m \u001b[38;5;28;01melse\u001b[39;00m:\n\u001b[1;32m   1745\u001b[0m     \u001b[38;5;28;01mreturn\u001b[39;00m lib\u001b[38;5;241m.\u001b[39mmap_infer_mask(\n\u001b[1;32m   1746\u001b[0m         values, mapper, mask\u001b[38;5;241m=\u001b[39misna(values)\u001b[38;5;241m.\u001b[39mview(np\u001b[38;5;241m.\u001b[39muint8), convert\u001b[38;5;241m=\u001b[39mconvert\n\u001b[1;32m   1747\u001b[0m     )\n",
      "File \u001b[0;32mlib.pyx:2972\u001b[0m, in \u001b[0;36mpandas._libs.lib.map_infer\u001b[0;34m()\u001b[0m\n",
      "Cell \u001b[0;32mIn[138], line 39\u001b[0m, in \u001b[0;36m<lambda>\u001b[0;34m(ingredient_list)\u001b[0m\n\u001b[1;32m     34\u001b[0m     \u001b[38;5;28;01mreturn\u001b[39;00m ingredient\n\u001b[1;32m     36\u001b[0m \u001b[38;5;66;03m# Apply mapping correctly by iterating through ingredient lists\u001b[39;00m\n\u001b[1;32m     37\u001b[0m data[\u001b[38;5;124m\"\u001b[39m\u001b[38;5;124mingredients\u001b[39m\u001b[38;5;124m\"\u001b[39m] \u001b[38;5;241m=\u001b[39m data[\u001b[38;5;124m\"\u001b[39m\u001b[38;5;124mingredients\u001b[39m\u001b[38;5;124m\"\u001b[39m]\u001b[38;5;241m.\u001b[39mapply(\n\u001b[1;32m     38\u001b[0m     \u001b[38;5;28;01mlambda\u001b[39;00m ingredient_list: [map_ingredient(ingredient) \u001b[38;5;28;01mfor\u001b[39;00m ingredient \u001b[38;5;129;01min\u001b[39;00m ingredient_list]\n\u001b[0;32m---> 39\u001b[0m     \u001b[38;5;28;01mif\u001b[39;00m \u001b[38;5;28;43misinstance\u001b[39;49m\u001b[43m(\u001b[49m\u001b[43mingredient_list\u001b[49m\u001b[43m,\u001b[49m\u001b[43m \u001b[49m\u001b[38;5;28;43mlist\u001b[39;49m\u001b[43m)\u001b[49m \u001b[38;5;28;01melse\u001b[39;00m ingredient_list  \u001b[38;5;66;03m# Ensure it's a list\u001b[39;00m\n\u001b[1;32m     40\u001b[0m )\n\u001b[1;32m     42\u001b[0m \u001b[38;5;124;03m'''lambda ingredient_list: [map_ingredient(ingredient) for ingredient in ingredient_list]\u001b[39;00m\n\u001b[1;32m     43\u001b[0m \u001b[38;5;124;03m    if isinstance(ingredient_list, list) else ingredient_list  # Ensure it's a list\u001b[39;00m\n\u001b[1;32m     44\u001b[0m \n\u001b[0;32m   (...)\u001b[0m\n\u001b[1;32m     48\u001b[0m \u001b[38;5;124;03m    else:\u001b[39;00m\n\u001b[1;32m     49\u001b[0m \u001b[38;5;124;03m        ingredient_list'''\u001b[39;00m\n\u001b[1;32m     51\u001b[0m map_ingredient(ingredient)\n",
      "\u001b[0;31mTypeError\u001b[0m: isinstance() arg 2 must be a type, a tuple of types, or a union"
     ]
    }
   ],
   "source": [
    "mappings = {\n",
    "    \"oil\": {\n",
    "    \"olive oil\" : [\"olive\"],\n",
    "    \"truffle oil\" : [\"truffle\"],\n",
    "    \"coconut oil\" : [\"coconut\", \"palm\"],\n",
    "    \"canola oil\" : [\"canola\"],\n",
    "    \"vegetable oil\" : [\"vegetable\"],\n",
    "    \"corn oil\" : [\"corn\"],\n",
    "    \"almond oil\" : [\"almond\"],\n",
    "    \"sesame oil\" : [\"sesame\"],\n",
    "    \"tuna in oil\" : [\"tuna\"]\n",
    "    }\n",
    "}\n",
    "\n",
    "data = pd.read_json(\"train.json\")\n",
    "\n",
    "changes = []\n",
    "def map_ingredient(ingredient):\n",
    "    if not isinstance(ingredient, str):\n",
    "        return ingredient\n",
    "    \n",
    "    words = ingredient.lower().split()\n",
    "    last_word = words[-1] if words else \"\"\n",
    "    \n",
    "    if last_word in mappings:\n",
    "        word_mapping = mappings[last_word]\n",
    "        \n",
    "        for key, value in word_mapping.items():\n",
    "            for i in value:\n",
    "                if i in words:  # Ensure full word matches\n",
    "                    if ingredient != key:  # Only log changes\n",
    "                        changes.append(f'\"{ingredient}\" > \"{key}\"')\n",
    "                        return key  # Apply mapping\n",
    "    return ingredient\n",
    "\n",
    "# Apply mapping correctly by iterating through ingredient lists\n",
    "data[\"ingredients\"] = data[\"ingredients\"].apply(\n",
    "    lambda ingredient_list: [map_ingredient(ingredient) for ingredient in ingredient_list]\n",
    "    if isinstance(ingredient_list, list) else ingredient_list  # Ensure it's a list\n",
    ")\n",
    "\n",
    "'''lambda ingredient_list: [map_ingredient(ingredient) for ingredient in ingredient_list]\n",
    "    if isinstance(ingredient_list, list) else ingredient_list  # Ensure it's a list\n",
    "\n",
    "if isinstance(ingredient_list, list):\n",
    "    for ingredient in ingredient_list:\n",
    "        map_ingredient(ingredient)\n",
    "    else:\n",
    "        ingredient_list'''\n",
    "\n",
    "map_ingredient(ingredient)"
   ]
  },
  {
   "cell_type": "code",
   "execution_count": 151,
   "id": "b6e3f0e2-fb1a-4144-b309-e52d4a6a9f6c",
   "metadata": {
    "scrolled": true
   },
   "outputs": [
    {
     "data": {
      "text/plain": [
       "'almond oil'"
      ]
     },
     "execution_count": 151,
     "metadata": {},
     "output_type": "execute_result"
    }
   ],
   "source": [
    "mappings = {\n",
    "    \"oil\": {\n",
    "    \"olive oil\" : [\"olive\"],\n",
    "    \"truffle oil\" : [\"truffle\"],\n",
    "    \"coconut oil\" : [\"coconut\", \"palm\"],\n",
    "    \"canola oil\" : [\"canola\"],\n",
    "    \"vegetable oil\" : [\"vegetable\"],\n",
    "    \"corn oil\" : [\"corn\"],\n",
    "    \"almond oil\" : [\"almond\"],\n",
    "    \"sesame oil\" : [\"sesame\"],\n",
    "    \"tuna in oil\" : [\"tuna\"]\n",
    "    }\n",
    "}\n",
    "\n",
    "data = pd.read_json(\"train.json\")\n",
    "\n",
    "changes = []\n",
    "def map_ingredient(ingredient):\n",
    "    if not isinstance(ingredient, str):\n",
    "        return ingredient\n",
    "    \n",
    "    words = ingredient.lower().split()\n",
    "    last_word = words[-1] if words else \"\"\n",
    "    \n",
    "    if last_word in mappings:\n",
    "        word_mapping = mappings[last_word]\n",
    "        \n",
    "        for key, value in word_mapping.items():\n",
    "            for i in value:\n",
    "                if i in words:  # Ensure full word matches\n",
    "                    if ingredient != key:  # Only log changes\n",
    "                        changes.append(f'\"{ingredient}\" > \"{key}\"')\n",
    "                        return key  # Apply mapping\n",
    "    return ingredient\n",
    "'''\n",
    "# Apply mapping correctly by iterating through ingredient lists\n",
    "data[\"ingredients\"] = data[\"ingredients\"].apply(\n",
    "    lambda ingredient_list: [map_ingredient(ingredient) for ingredient in ingredient_list]\n",
    "    if isinstance(ingredient_list, list) else ingredient_list  # Ensure it's a list\n",
    ")\n",
    "\n",
    "\n",
    "lambda ingredient_list: [map_ingredient(ingredient) for ingredient in ingredient_list]\n",
    "    if isinstance(ingredient_list, list) else ingredient_list  # Ensure it's a list\n",
    "'''\n",
    "def replace_lambda(ingredient_list):\n",
    "    if type(ingredient_list) == list:\n",
    "        for ingredient in ingredient_list:\n",
    "            map_ingredient(ingredient)\n",
    "        else:\n",
    "            ingredient_list\n",
    "\n",
    "data[\"ingredients\"] = data[\"ingredients\"].apply(replace_lambda)\n",
    "\n",
    "map_ingredient(ingredient)"
   ]
  },
  {
   "cell_type": "code",
   "execution_count": 98,
   "id": "01b700c6-9467-4999-8718-c0055ad7c47f",
   "metadata": {},
   "outputs": [
    {
     "name": "stdout",
     "output_type": "stream",
     "text": [
      "olive oil ['olive']\n",
      "truffle oil ['truffle']\n",
      "coconut oil ['coconut', 'palm']\n",
      "canola oil ['canola']\n",
      "vegetable oil ['vegetable']\n",
      "corn oil ['corn']\n",
      "almond oil ['almond']\n",
      "sesame oil ['sesame']\n",
      "tuna in oil ['tuna']\n"
     ]
    }
   ],
   "source": [
    "word_mapping = {\n",
    "    \"olive oil\" : [\"olive\"],\n",
    "    \"truffle oil\" : [\"truffle\"],\n",
    "    \"coconut oil\" : [\"coconut\", \"palm\"],\n",
    "    \"canola oil\" : [\"canola\"],\n",
    "    \"vegetable oil\" : [\"vegetable\"],\n",
    "    \"corn oil\" : [\"corn\"],\n",
    "    \"almond oil\" : [\"almond\"],\n",
    "    \"sesame oil\" : [\"sesame\"],\n",
    "    \"tuna in oil\" : [\"tuna\"]\n",
    "}\n",
    "\n",
    "for key, value in word_mapping.items():\n",
    "    print"
   ]
  },
  {
   "cell_type": "code",
   "execution_count": 150,
   "id": "7e6c1f19-81cf-4e57-bfde-f5eb896f1535",
   "metadata": {},
   "outputs": [
    {
     "data": {
      "text/plain": [
       "0        [romaine lettuce, black olives, grape tomatoes...\n",
       "1        [plain flour, ground pepper, salt, tomatoes, g...\n",
       "2        [eggs, pepper, salt, mayonaise, cooking oil, g...\n",
       "3                      [water, vegetable oil, wheat, salt]\n",
       "4        [black pepper, shallots, cornflour, cayenne pe...\n",
       "                               ...                        \n",
       "39769    [light brown sugar, granulated sugar, butter, ...\n",
       "39770    [KRAFT Zesty Italian Dressing, purple onion, b...\n",
       "39771    [eggs, citrus fruit, raisins, sourdough starte...\n",
       "39772    [boneless chicken skinless thigh, minced garli...\n",
       "39773    [green chile, jalapeno chilies, onions, ground...\n",
       "Name: ingredients, Length: 39774, dtype: object"
      ]
     },
     "execution_count": 150,
     "metadata": {},
     "output_type": "execute_result"
    }
   ],
   "source": [
    "data[\"ingredients\"]"
   ]
  },
  {
   "cell_type": "code",
   "execution_count": null,
   "id": "df172a00-3817-4cd8-b895-77a654562aa1",
   "metadata": {},
   "outputs": [],
   "source": []
  }
 ],
 "metadata": {
  "kernelspec": {
   "display_name": "Python 3 (ipykernel)",
   "language": "python",
   "name": "python3"
  },
  "language_info": {
   "codemirror_mode": {
    "name": "ipython",
    "version": 3
   },
   "file_extension": ".py",
   "mimetype": "text/x-python",
   "name": "python",
   "nbconvert_exporter": "python",
   "pygments_lexer": "ipython3",
   "version": "3.13.0"
  }
 },
 "nbformat": 4,
 "nbformat_minor": 5
}
